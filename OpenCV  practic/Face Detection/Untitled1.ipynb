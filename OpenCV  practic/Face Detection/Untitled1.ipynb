{
 "cells": [
  {
   "cell_type": "code",
   "execution_count": null,
   "id": "e196a4f8",
   "metadata": {},
   "outputs": [],
   "source": [
    "import cv2\n",
    "from matplotlib import pyplot as plt\n",
    "\n",
    "cap=cv2.VideoCapture(0)\n",
    "face_cascade=cv2.CascadeClassifier(\"haarcascade_frontalface_alt.xml\")\n",
    "while True:\n",
    "      ret,frame=cap.read()\n",
    "      gray_frame=cv2.cvtColor(frame,cv2.COLOR_BGR2GRAY)\n",
    "        \n",
    "      if ret==False:  \n",
    "          continue\n",
    "      faces=face_cascade.detectMultiScale(gray_frame,scalingFactor,No)\n",
    "      cv2.imshow(\"video Frame\",frame)\n",
    "      cv2.imshow(\"Gray Frame\",gray_frame)\n",
    "\n",
    "      key_pressed=cv2.waitKey(1)& 0xFF\n",
    "      if key_pressed==ord('q'):\n",
    "         break\n",
    "            \n",
    "cap.realease()\n",
    "cv2.destroyALlWindows()\n"
   ]
  }
 ],
 "metadata": {
  "kernelspec": {
   "display_name": "Python 3 (ipykernel)",
   "language": "python",
   "name": "python3"
  },
  "language_info": {
   "codemirror_mode": {
    "name": "ipython",
    "version": 3
   },
   "file_extension": ".py",
   "mimetype": "text/x-python",
   "name": "python",
   "nbconvert_exporter": "python",
   "pygments_lexer": "ipython3",
   "version": "3.9.5"
  }
 },
 "nbformat": 4,
 "nbformat_minor": 5
}
